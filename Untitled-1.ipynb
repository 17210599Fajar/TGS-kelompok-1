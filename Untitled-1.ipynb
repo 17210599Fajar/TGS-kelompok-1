{
 "cells": [
  {
   "cell_type": "code",
   "execution_count": 1,
   "metadata": {},
   "outputs": [
    {
     "name": "stdout",
     "output_type": "stream",
     "text": [
      "=======================================\n",
      "NIM      :17210599\n",
      "NAMA     :Fajar GUnawan\n",
      "KELAS    :17.1c.12\n",
      "MATKUL   :Dasar Permograman\n",
      "GRADE B\n",
      "SELAMAT NILAI ANDA CUKUP BAGUS DAN ANDA LULUS\n",
      "TOTAL NILAI KESELURUHAN = 80.0\n",
      "=======================================\n"
     ]
    }
   ],
   "source": [
    "nim = input(\"Masukan NIM = \")\n",
    "nama = input(\"Masukan Nama = \")\n",
    "kelas = input(\"Masukan Kelas = \")\n",
    "matkul = input(\"Masukan Matakuliah = \")\n",
    "nilai_absen = int(input(\"Nilai Absen = \"))\n",
    "nilai_tugas1 = int(input(\"Nilai Tugas 1 = \"))\n",
    "nilai_tugas2 = int(input(\"Nilai Tugas 2 = \"))\n",
    "nilai_uts = int(input(\"Nilai UTS = \"))\n",
    "nilai_uas = int(input(\"Nilai UAS = \"))\n",
    "\n",
    "\n",
    "# prosses\n",
    "\n",
    "any = nilai_absen * 0.20 + nilai_tugas1 * 0.10 + \\\n",
    "    nilai_tugas2 * 0.10 + nilai_uts * 0.30 + nilai_uas * 0.30\n",
    "\n",
    "\n",
    "# output\n",
    "\n",
    "print(\"=======================================\")\n",
    "print(\"NIM      :\"+str(nim))\n",
    "print(\"NAMA     :\"+str(nama))\n",
    "print(\"KELAS    :\"+str(kelas))\n",
    "print(\"MATKUL   :\"+str(matkul))\n",
    "\n",
    "if any >= 85:\n",
    "    print(\"GRADE A\")\n",
    "    print(\"SELAMAT NILAI ANDA SANGAT BAGUS DAN ANDA LULUS\")\n",
    "\n",
    "elif any >= 75:\n",
    "    print(\"GRADE B\")\n",
    "    print(\"SELAMAT NILAI ANDA CUKUP BAGUS DAN ANDA LULUS\")\n",
    "\n",
    "elif any >= 65:\n",
    "    print(\"GRADE C\")\n",
    "    print(\"SELAMAT NILAI ANDA CUKUP DAN ANDA LULUS\")\n",
    "\n",
    "else:\n",
    "    print(\"GRADE D\")\n",
    "    print(\"NILAI ANDA BELUM CUKUP DAN ANDA BELUM LULUS\")\n",
    "\n",
    "print(\"TOTAL NILAI KESELURUHAN = \"+str(any))\n",
    "print(\"=======================================\")"
   ]
  }
 ],
 "metadata": {
  "interpreter": {
   "hash": "669c57335d814790a0a8ea20dc08c100929a5b6e7176d5937f3f567eb2cddf61"
  },
  "kernelspec": {
   "display_name": "Python 3.7.1 64-bit",
   "name": "python3"
  },
  "language_info": {
   "codemirror_mode": {
    "name": "ipython",
    "version": 3
   },
   "file_extension": ".py",
   "mimetype": "text/x-python",
   "name": "python",
   "nbconvert_exporter": "python",
   "pygments_lexer": "ipython3",
   "version": "3.7.1"
  },
  "orig_nbformat": 4
 },
 "nbformat": 4,
 "nbformat_minor": 2
}
